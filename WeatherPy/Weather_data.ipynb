{
 "cells": [
  {
   "cell_type": "code",
   "execution_count": 1,
   "metadata": {},
   "outputs": [],
   "source": [
    "%load_ext lab_black"
   ]
  },
  {
   "cell_type": "code",
   "execution_count": 2,
   "metadata": {},
   "outputs": [],
   "source": [
    "import json\n",
    "import requests\n",
    "import pandas as pd\n",
    "import numpy as np\n",
    "from config import api_key\n",
    "from citipy import citipy"
   ]
  },
  {
   "cell_type": "code",
   "execution_count": 3,
   "metadata": {},
   "outputs": [],
   "source": [
    "def extract_data(data):\n",
    "    return {\n",
    "        \"City\": data[\"name\"],\n",
    "        \"Country\": data[\"sys\"][\"country\"],\n",
    "        \"Lat\": data[\"coord\"][\"lat\"],\n",
    "        \"Long\": data[\"coord\"][\"lon\"],\n",
    "        \"Temp\": data[\"main\"][\"temp\"],\n",
    "        \"Feel Like\": data[\"main\"][\"feels_like\"],\n",
    "        \"Humidity\": data[\"main\"][\"humidity\"],\n",
    "        \"Cloud %\": data[\"clouds\"][\"all\"],\n",
    "    }"
   ]
  },
  {
   "cell_type": "code",
   "execution_count": 4,
   "metadata": {},
   "outputs": [],
   "source": [
    "# generating random cities from citipy\n",
    "cities = []\n",
    "\n",
    "lats = np.random.uniform(low=-90.000, high=90.000, size=2000)\n",
    "lngs = np.random.uniform(low=-180.000, high=180.000, size=2000)\n",
    "lat_lngs = zip(lats, lngs)\n",
    "\n",
    "for e in lat_lngs:\n",
    "    city = citipy.nearest_city(e[0], e[1]).city_name\n",
    "    if city not in cities:\n",
    "        cities.append(city)"
   ]
  },
  {
   "cell_type": "code",
   "execution_count": 5,
   "metadata": {},
   "outputs": [
    {
     "data": {
      "text/plain": [
       "luderitz      1\n",
       "neiafu        1\n",
       "ixtapa        1\n",
       "pucara        1\n",
       "dembi dolo    1\n",
       "             ..\n",
       "longkou       1\n",
       "mayo          1\n",
       "moron         1\n",
       "faya          1\n",
       "waddan        1\n",
       "Name: cities, Length: 727, dtype: int64"
      ]
     },
     "execution_count": 5,
     "metadata": {},
     "output_type": "execute_result"
    }
   ],
   "source": [
    "# checking city count and unique values\n",
    "df = pd.DataFrame(cities, columns=[\"cities\"])\n",
    "df[\"cities\"].value_counts()"
   ]
  },
  {
   "cell_type": "code",
   "execution_count": 6,
   "metadata": {},
   "outputs": [],
   "source": [
    "url = \"http://api.openweathermap.org/data/2.5/weather\"\n",
    "params = {\"q\": city, \"appid\": api_key, \"units\": \"imperial\"}\n",
    "\n",
    "city_weather = []\n",
    "positive_count = 0\n",
    "\n",
    "for city in cities:\n",
    "\n",
    "    url = \"http://api.openweathermap.org/data/2.5/weather\"\n",
    "    params = {\"q\": city, \"appid\": api_key, \"units\": \"imperial\"}\n",
    "\n",
    "    raw_json = requests.get(url=url, params=params)\n",
    "\n",
    "    if raw_json.status_code == 200:\n",
    "\n",
    "        data = raw_json.json()\n",
    "        positive_count += 1\n",
    "        city_weather.append(data)"
   ]
  },
  {
   "cell_type": "code",
   "execution_count": 7,
   "metadata": {},
   "outputs": [],
   "source": [
    "weather_info = []\n",
    "\n",
    "for info in city_weather:\n",
    "    weather_info.append(extract_data(info))\n",
    "\n",
    "weather_df = pd.DataFrame(weather_info)"
   ]
  },
  {
   "cell_type": "code",
   "execution_count": 9,
   "metadata": {},
   "outputs": [],
   "source": [
    "weather_df.to_csv(\"../Data/Weather_data.csv\", index=False)"
   ]
  }
 ],
 "metadata": {
  "environment": {
   "name": "common-cpu.m54",
   "type": "gcloud",
   "uri": "gcr.io/deeplearning-platform-release/base-cpu:m54"
  },
  "kernelspec": {
   "display_name": "Python 3",
   "language": "python",
   "name": "python3"
  },
  "language_info": {
   "codemirror_mode": {
    "name": "ipython",
    "version": 3
   },
   "file_extension": ".py",
   "mimetype": "text/x-python",
   "name": "python",
   "nbconvert_exporter": "python",
   "pygments_lexer": "ipython3",
   "version": "3.7.8"
  }
 },
 "nbformat": 4,
 "nbformat_minor": 4
}
